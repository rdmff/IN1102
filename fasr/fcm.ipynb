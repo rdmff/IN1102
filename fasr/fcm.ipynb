{
 "cells": [
  {
   "cell_type": "markdown",
   "metadata": {},
   "source": [
    "# FCM - Fuzzy C-Means"
   ]
  },
  {
   "cell_type": "markdown",
   "metadata": {},
   "source": [
    "O algoritmo Fuzzy C-Means (FCM) foi proposto pela primeira vez por Dunn em 1973 em um artigo intitulado \"A Fuzzy Relative of the ISODATA Process and Its Use in Detecting Compact Well-Separated Clusters\" (\"Um Parente Difuso do Processo ISODATA e seu Uso na Detecção de Clusters Compactos e Bem Separados\"). \n",
    "\n",
    "Este artigo foi publicado na revista Journal of Cybernetics, Volume 3, Número 3, de 1973. Dunn introduziu o algoritmo FCM como uma extensão do algoritmo K-Means, permitindo que cada ponto de dados pertença parcialmente a cada cluster, em vez de pertencer exclusivamente a apenas um cluster, como no K-Means.\n",
    "\n",
    "Desde então, o algoritmo FCM tem sido amplamente estudado e aplicado em diversas áreas, como mineração de dados, reconhecimento de padrões e aprendizado de máquina. Muitos artigos subsequentes aprimoraram e estenderam o algoritmo original para atender a diferentes necessidades e cenários de aplicação."
   ]
  },
  {
   "cell_type": "code",
   "execution_count": null,
   "metadata": {},
   "outputs": [],
   "source": [
    "import numpy as np\n",
    "\n",
    "def initialize_membership_matrix(n_samples, n_clusters):\n",
    "    return np.random.rand(n_samples, n_clusters)\n",
    "\n",
    "def update_cluster_centers(data, membership_matrix, m):\n",
    "    numerator = np.dot(data.T, membership_matrix**m)\n",
    "    denominator = np.sum(membership_matrix**m, axis=0)\n",
    "    return numerator / denominator\n",
    "\n",
    "def update_membership_matrix(data, cluster_centers, m):\n",
    "    distances = np.linalg.norm(data[:, None] - cluster_centers, axis=2)**2\n",
    "    distances[distances == 0] = np.finfo(float).eps\n",
    "    return 1 / np.sum((distances[:, :, None] / distances[:, :, None].swapaxes(1, 2))**(1 / (m - 1)), axis=2)\n",
    "\n",
    "def fuzzy_cmeans(data, n_clusters, m, max_iter=100, tol=1e-4):\n",
    "    n_samples = data.shape[0]\n",
    "    \n",
    "    # Inicialização dos centróides\n",
    "    cluster_centers = data[np.random.choice(n_samples, n_clusters, replace=False)]\n",
    "    \n",
    "    # Inicialização da matriz de pertinência\n",
    "    membership_matrix = initialize_membership_matrix(n_samples, n_clusters)\n",
    "    \n",
    "    for _ in range(max_iter):\n",
    "        # Atualização dos centróides\n",
    "        new_cluster_centers = update_cluster_centers(data, membership_matrix, m)\n",
    "        \n",
    "        # Atualização da matriz de pertinência\n",
    "        new_membership_matrix = update_membership_matrix(data, new_cluster_centers, m)\n",
    "        \n",
    "        # Verificação da convergência\n",
    "        if np.linalg.norm(new_membership_matrix - membership_matrix) < tol:\n",
    "            break\n",
    "        \n",
    "        cluster_centers = new_cluster_centers\n",
    "        membership_matrix = new_membership_matrix\n",
    "    \n",
    "    return cluster_centers, membership_matrix\n",
    "\n",
    "# Exemplo de uso\n",
    "if __name__ == \"__main__\":\n",
    "    # Dados de exemplo\n",
    "    np.random.seed(0)\n",
    "    n_samples = 100\n",
    "    n_features = 2\n",
    "    data = np.random.rand(n_samples, n_features)\n",
    "    \n",
    "    # Número de clusters\n",
    "    n_clusters = 3\n",
    "    \n",
    "    # Parâmetro de \"fuzziness\"\n",
    "    m = 2\n",
    "    \n",
    "    # Executando o algoritmo\n",
    "    cluster_centers, membership_matrix = fuzzy_cmeans(data, n_clusters, m)\n",
    "    \n",
    "    # Exibindo os resultados\n",
    "    print(\"Cluster centers:\")\n",
    "    print(cluster_centers)\n",
    "    print(\"\\nMembership matrix:\")\n",
    "    print(membership_matrix)\n"
   ]
  },
  {
   "cell_type": "markdown",
   "metadata": {},
   "source": [
    "References:\n",
    "\n",
    "- [Fuzzy C-Means Clustering (FCM) Algorithm](https://medium.com/geekculture/fuzzy-c-means-clustering-fcm-algorithm-in-machine-learning-c2e51e586fff)"
   ]
  }
 ],
 "metadata": {
  "language_info": {
   "name": "python"
  }
 },
 "nbformat": 4,
 "nbformat_minor": 2
}
