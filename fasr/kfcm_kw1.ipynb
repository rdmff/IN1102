{
 "cells": [
  {
   "cell_type": "code",
   "execution_count": null,
   "metadata": {},
   "outputs": [],
   "source": [
    "import numpy as np\n",
    "from scipy.spatial import cdist\n",
    "from sklearn.metrics import pairwise_distances\n",
    "from sklearn.kernel_approximation import RBFKernel\n",
    "\n",
    "def kfcm_kw1(X, k, m, kernel, sigma):\n",
    "    \"\"\"\n",
    "    Implementação do algoritmo KFCM-K-W.1 em Python.\n",
    "\n",
    "    Parâmetros:\n",
    "        X (numpy.ndarray): Matriz de dados com dimensões (n, d), onde n é o número de pontos de dados e d é a dimensionalidade dos dados.\n",
    "        k (int): Número de clusters.\n",
    "        m (float): Parâmetro de ponderação espacial.\n",
    "        kernel (callable): Função de kernel.\n",
    "        sigma (float): Parâmetro do kernel RBF.\n",
    "\n",
    "    Retorno:\n",
    "        C (numpy.ndarray): Matriz de pertinência fuzzy com dimensões (n, k), onde n é o número de pontos de dados e k é o número de clusters.\n",
    "        V (numpy.ndarray): Matriz de protótipos dos clusters com dimensões (k, d), onde k é o número de clusters e d é a dimensionalidade dos dados.\n",
    "    \"\"\"\n",
    "\n",
    "    n, d = X.shape\n",
    "    W = pairwise_distances(X, metric='euclidean')**(-m)\n",
    "\n",
    "    # Inicialização aleatória dos protótipos dos clusters\n",
    "    V = X[np.random.choice(n, size=k, replace=False), :]\n",
    "\n",
    "    # Iterações do algoritmo\n",
    "    for t in range(max_iter):\n",
    "        # Cálculo da pertinência fuzzy\n",
    "        C = np.zeros((n, k))\n",
    "        for i in range(n):\n",
    "            for j in range(k):\n",
    "                dist = cdist(X[i, :].reshape(1, -1), V[j, :].reshape(1, -1), metric='euclidean')\n",
    "                C[i, j] = 1 / (sum(np.power(dist / (kernel(X[i, :], V[j, :], sigma) + eps), 2 * m))**(1 / (2 * m - 1)))\n",
    "\n",
    "        # Atualização dos protótipos dos clusters\n",
    "        for j in range(k):\n",
    "            V[j, :] = np.sum(C[:, j] * W[:, None] * X, axis=0) / np.sum(C[:, j] * W[:, None], axis=0)\n",
    "\n",
    "    return C, V\n"
   ]
  }
 ],
 "metadata": {
  "language_info": {
   "name": "python"
  }
 },
 "nbformat": 4,
 "nbformat_minor": 2
}
