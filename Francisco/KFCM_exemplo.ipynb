{
 "cells": [
  {
   "cell_type": "code",
   "execution_count": null,
   "id": "3c680168",
   "metadata": {},
   "outputs": [],
   "source": [
    "\"\"\"\n",
    "Exemplo do algoritmo pelo ChatGPT!\n",
    "\"\"\""
   ]
  },
  {
   "cell_type": "code",
   "execution_count": null,
   "id": "2efe2c09",
   "metadata": {},
   "outputs": [],
   "source": [
    "import numpy as np\n",
    "from scipy.spatial.distance import cdist\n",
    "\n",
    "def gaussian_kernel(x, y, bandwidth):\n",
    "    return np.exp(-np.linalg.norm(x - y) ** 2 / (2 * (bandwidth ** 2)))\n",
    "\n",
    "def compute_bandwidths(data, centroids, m):\n",
    "    N, p = data.shape\n",
    "    K = centroids.shape[0]\n",
    "    bandwidths = np.zeros((K, p))\n",
    "    for k in range(K):\n",
    "        for j in range(p):\n",
    "            numerator = 0\n",
    "            denominator = 0\n",
    "            for i in range(N):\n",
    "                u_ik = (1 / np.linalg.norm(data[i] - centroids[k])) ** (2 / (m - 1))\n",
    "                numerator += u_ik * (data[i, j] - centroids[k, j]) ** 2\n",
    "                denominator += u_ik\n",
    "            bandwidths[k, j] = np.sqrt(numerator / denominator)\n",
    "    return bandwidths\n",
    "\n",
    "def gkfcm(data, K, m=2, max_iter=100, tol=1e-5):\n",
    "    N, p = data.shape\n",
    "    # Initialize membership matrix randomly\n",
    "    U = np.random.dirichlet(np.ones(K), size=N)\n",
    "    centroids = np.dot(U.T, data) / U.sum(axis=0)[:, None]\n",
    "\n",
    "    for iteration in range(max_iter):\n",
    "        bandwidths = compute_bandwidths(data, centroids, m)\n",
    "        prev_U = np.copy(U)\n",
    "        \n",
    "        for i in range(N):\n",
    "            for k in range(K):\n",
    "                numerator = np.sum([(U[i, c] ** m) * gaussian_kernel(data[i], centroids[c], bandwidths[c].mean()) for c in range(K)])\n",
    "                U[i, k] = (1 / gaussian_kernel(data[i], centroids[k], bandwidths[k].mean())) ** (1 / (m - 1)) / numerator\n",
    "\n",
    "        centroids = np.dot(U.T, data) / U.sum(axis=0)[:, None]\n",
    "        \n",
    "        if np.linalg.norm(U - prev_U) < tol:\n",
    "            break\n",
    "\n",
    "    return U, centroids, bandwidths\n",
    "\n",
    "# Test the implementation\n",
    "if __name__ == \"__main__\":\n",
    "    # Generate some test data\n",
    "    from sklearn.datasets import make_blobs\n",
    "\n",
    "    data, _ = make_blobs(n_samples=300, centers=3, n_features=2, random_state=42)\n",
    "\n",
    "    # Apply the GKFCM algorithm\n",
    "    K = 3\n",
    "    U, centroids, bandwidths = gkfcm(data, K)\n",
    "\n",
    "    print(\"Membership matrix:\\n\", U)\n",
    "    print(\"Centroids:\\n\", centroids)\n",
    "    print(\"Bandwidths:\\n\", bandwidths)"
   ]
  }
 ],
 "metadata": {
  "kernelspec": {
   "display_name": "Python 3 (ipykernel)",
   "language": "python",
   "name": "python3"
  },
  "language_info": {
   "codemirror_mode": {
    "name": "ipython",
    "version": 3
   },
   "file_extension": ".py",
   "mimetype": "text/x-python",
   "name": "python",
   "nbconvert_exporter": "python",
   "pygments_lexer": "ipython3",
   "version": "3.11.7"
  }
 },
 "nbformat": 4,
 "nbformat_minor": 5
}
