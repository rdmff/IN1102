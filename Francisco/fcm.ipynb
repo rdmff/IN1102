{
 "cells": [
  {
   "cell_type": "markdown",
   "metadata": {},
   "source": [
    "# FCM - Fuzzy C-Means"
   ]
  },
  {
   "cell_type": "markdown",
   "metadata": {},
   "source": [
    "O algoritmo Fuzzy C-Means (FCM) foi proposto pela primeira vez por Dunn em 1973 em um artigo intitulado \"A Fuzzy Relative of the ISODATA Process and Its Use in Detecting Compact Well-Separated Clusters\" (\"Um Parente Difuso do Processo ISODATA e seu Uso na Detecção de Clusters Compactos e Bem Separados\"). \n",
    "\n",
    "Este artigo foi publicado na revista Journal of Cybernetics, Volume 3, Número 3, de 1973. Dunn introduziu o algoritmo FCM como uma extensão do algoritmo K-Means, permitindo que cada ponto de dados pertença parcialmente a cada cluster, em vez de pertencer exclusivamente a apenas um cluster, como no K-Means.\n",
    "\n",
    "Desde então, o algoritmo FCM tem sido amplamente estudado e aplicado em diversas áreas, como mineração de dados, reconhecimento de padrões e aprendizado de máquina. Muitos artigos subsequentes aprimoraram e estenderam o algoritmo original para atender a diferentes necessidades e cenários de aplicação."
   ]
  },
  {
   "cell_type": "code",
   "execution_count": null,
   "metadata": {},
   "outputs": [],
   "source": [
    "import numpy as np\n",
    "\n",
    "class FuzzyCMeans:\n",
    "    def __init__(self, n_clusters=2, max_iter=100, m=2, error=1e-5):\n",
    "        self.n_clusters = n_clusters\n",
    "        self.max_iter = max_iter\n",
    "        self.m = m\n",
    "        self.error = error\n",
    "        \n",
    "    def fit(self, X):\n",
    "        self.centroids = self._initialize_centroids(X)\n",
    "        for i in range(self.max_iter):\n",
    "            prev_centroids = self.centroids\n",
    "            \n",
    "            # Calculating membership matrix\n",
    "            membership_mat = self._calculate_membership(X)\n",
    "            \n",
    "            # Updating centroids\n",
    "            self.centroids = self._update_centroids(X, membership_mat)\n",
    "            \n",
    "            # Checking convergence\n",
    "            if np.linalg.norm(self.centroids - prev_centroids) < self.error:\n",
    "                break\n",
    "                \n",
    "        return membership_mat\n",
    "    \n",
    "    def predict(self, X):\n",
    "        membership_mat = self.fit(X)\n",
    "        return np.argmax(membership_mat, axis=1)\n",
    "    \n",
    "    def _initialize_centroids(self, X):\n",
    "        indices = np.random.choice(len(X), self.n_clusters, replace=False)\n",
    "        return X[indices]\n",
    "    \n",
    "    def _calculate_membership(self, X):\n",
    "        distances = np.linalg.norm(X[:, np.newaxis] - self.centroids, axis=2)\n",
    "        inv_dist = 1.0 / distances ** (2 / (self.m - 1))\n",
    "        return inv_dist / np.sum(inv_dist, axis=1)[:, np.newaxis]\n",
    "    \n",
    "    def _update_centroids(self, X, membership_mat):\n",
    "        um_power = membership_mat ** self.m\n",
    "        return np.dot(um_power.T, X) / np.sum(um_power, axis=0)[:, np.newaxis]\n",
    "\n",
    "# Example usage:\n",
    "if __name__ == \"__main__\":\n",
    "    # Generate sample data\n",
    "    np.random.seed(42)\n",
    "    X = np.random.rand(100, 2)\n",
    "    \n",
    "    # Initialize and fit Fuzzy C-Means\n",
    "    fcm = FuzzyCMeans(n_clusters=3)\n",
    "    membership_mat = fcm.fit(X)\n",
    "    \n",
    "    # Predict clusters\n",
    "    labels = fcm.predict(X)\n",
    "    print(labels)\n"
   ]
  },
  {
   "cell_type": "markdown",
   "metadata": {},
   "source": [
    "References:\n",
    "\n",
    "- [Fuzzy C-Means Clustering (FCM) Algorithm](https://medium.com/geekculture/fuzzy-c-means-clustering-fcm-algorithm-in-machine-learning-c2e51e586fff)\n",
    "\n",
    "https://chat.openai.com/c/5fe68db4-2d71-4eae-86c1-2d9764bee1f2\n",
    "\n",
    "https://chat.openai.com/c/7a7bac88-00c3-49d2-a8d9-4a58eeb54c59"
   ]
  }
 ],
 "metadata": {
  "language_info": {
   "name": "python"
  }
 },
 "nbformat": 4,
 "nbformat_minor": 2
}
